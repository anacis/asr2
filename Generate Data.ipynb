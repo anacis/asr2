{
 "cells": [
  {
   "cell_type": "code",
   "execution_count": 37,
   "metadata": {},
   "outputs": [
    {
     "data": {
      "image/png": "[encoded data removed]",
      "text/plain": [
       "<Figure size 576x109 with 1 Axes>"
      ]
     },
     "metadata": {
      "needs_background": "light"
     },
     "output_type": "display_data"
    },
    {
     "data": {
      "image/png": "[encoded data removed]",
      "text/plain": [
       "<Figure size 576x109 with 1 Axes>"
      ]
     },
     "metadata": {
      "needs_background": "light"
     },
     "output_type": "display_data"
    }
   ],
   "source": [
    "#import statements \n",
    "import pydicom\n",
    "import os\n",
    "import numpy as np\n",
    "import matplotlib.pyplot as plt\n",
    "import random\n",
    "import cv2\n",
    "import imgaug as ia\n",
    "from imgaug import augmenters as iaa\n",
    "import imageio\n",
    "\n",
    "#set instance variables\n",
    "path_pd = \"/Users/anacismaru/asr_mac/pd\"\n",
    "path_control = \"/Users/anacismaru/asr_mac/control\"\n",
    "PX_SIZE_2D = 64\n",
    "PX_SIZE_3D = 64\n",
    "\n",
    "#matrices that contain numpy arrays of pixel data\n",
    "images_pd = upload_dicom(path_pd)\n",
    "images_control = upload_dicom(path_control)\n",
    "ia.imshow(images_pd[0][45])\n",
    "\n",
    "flipped_pd = flip(images_pd)\n",
    "flipped_control = flip(images_control)\n",
    "ia.imshow(flipped_pd[0][45])\n",
    "\n",
    "\n"
   ]
  },
  {
   "cell_type": "code",
   "execution_count": 14,
   "metadata": {},
   "outputs": [],
   "source": [
    "#checked and good\n",
    "def upload_dicom(path):\n",
    "    PathDicom = path\n",
    "    lstFilesDCM = []  # create an empty list\n",
    "    for dirName, subdirList, fileList in os.walk(PathDicom):\n",
    "        for filename in fileList:\n",
    "            if \".dcm\" in filename.lower():  # check whether the file's DICOM\n",
    "                lstFilesDCM.append(os.path.join(dirName,filename))\n",
    "    #print(lstFilesDCM[0])   \n",
    "\n",
    "    #make a array to store all the 3D dicom images, should be 702 long by the end of the program\n",
    "    images = []\n",
    "\n",
    "    # loop through all the DICOM files\n",
    "    for filenameDCM in lstFilesDCM:   \n",
    "        # read the file\n",
    "        vol = imageio.volread(filenameDCM, 'DICOM')\n",
    "        images.append(vol)\n",
    "#         # store the raw image data\n",
    "#         pixel_data = ds.pixel_array\n",
    "#         #convert pixel data to numpy array for one image\n",
    "#         array = pixel_data \n",
    "#         #append to larger list of images\n",
    "#         images.append(array)\n",
    "    #return array with dicom files\n",
    "    return images"
   ]
  },
  {
   "cell_type": "code",
   "execution_count": 34,
   "metadata": {},
   "outputs": [],
   "source": [
    "def flip_2(array_images):\n",
    "    flipped = []\n",
    "    for image in array_images:\n",
    "        flip = image = np.flip(image, axis=2)\n",
    "        flipped.append(flip)\n",
    "    return flipped"
   ]
  },
  {
   "cell_type": "code",
   "execution_count": null,
   "metadata": {},
   "outputs": [],
   "source": []
  }
 ],
 "metadata": {
  "kernelspec": {
   "display_name": "Python 3",
   "language": "python",
   "name": "python3"
  },
  "language_info": {
   "codemirror_mode": {
    "name": "ipython",
    "version": 3
   },
   "file_extension": ".py",
   "mimetype": "text/x-python",
   "name": "python",
   "nbconvert_exporter": "python",
   "pygments_lexer": "ipython3",
   "version": "3.7.1"
  }
 },
 "nbformat": 4,
 "nbformat_minor": 2
}
