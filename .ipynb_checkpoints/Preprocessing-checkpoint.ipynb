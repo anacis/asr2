{
 "cells": [
  {
   "cell_type": "code",
   "execution_count": 19,
   "metadata": {},
   "outputs": [
    {
     "ename": "AttributeError",
     "evalue": "module 'scipy' has no attribute 'imresize'",
     "output_type": "error",
     "traceback": [
      "\u001b[0;31m---------------------------------------------------------------------------\u001b[0m",
      "\u001b[0;31mAttributeError\u001b[0m                            Traceback (most recent call last)",
      "\u001b[0;32m<ipython-input-19-9482091ff63e>\u001b[0m in \u001b[0;36m<module>\u001b[0;34m\u001b[0m\n\u001b[1;32m     21\u001b[0m \u001b[0mn_images_control\u001b[0m \u001b[0;34m=\u001b[0m \u001b[0mnormalize\u001b[0m\u001b[0;34m(\u001b[0m\u001b[0mimages_control\u001b[0m\u001b[0;34m)\u001b[0m\u001b[0;34m\u001b[0m\u001b[0;34m\u001b[0m\u001b[0m\n\u001b[1;32m     22\u001b[0m \u001b[0;34m\u001b[0m\u001b[0m\n\u001b[0;32m---> 23\u001b[0;31m \u001b[0mresized_test_pd\u001b[0m \u001b[0;34m=\u001b[0m \u001b[0mresize_3D\u001b[0m\u001b[0;34m(\u001b[0m\u001b[0mn_images_pd\u001b[0m\u001b[0;34m,\u001b[0m \u001b[0mPX_SIZE_2D\u001b[0m\u001b[0;34m,\u001b[0m \u001b[0mPX_SIZE_2D\u001b[0m\u001b[0;34m,\u001b[0m \u001b[0mPX_SIZE_2D\u001b[0m\u001b[0;34m)\u001b[0m\u001b[0;34m\u001b[0m\u001b[0;34m\u001b[0m\u001b[0m\n\u001b[0m\u001b[1;32m     24\u001b[0m \u001b[0mprint\u001b[0m\u001b[0;34m(\u001b[0m\u001b[0mresized_test_pd\u001b[0m\u001b[0;34m[\u001b[0m\u001b[0;36m0\u001b[0m\u001b[0;34m]\u001b[0m\u001b[0;34m.\u001b[0m\u001b[0mshape\u001b[0m\u001b[0;34m)\u001b[0m\u001b[0;34m\u001b[0m\u001b[0;34m\u001b[0m\u001b[0m\n\u001b[1;32m     25\u001b[0m \u001b[0;34m\u001b[0m\u001b[0m\n",
      "\u001b[0;32m<ipython-input-18-b2f583212d5a>\u001b[0m in \u001b[0;36mresize_3D\u001b[0;34m(array_images, pixel_length, pixel_width, pixel_height)\u001b[0m\n\u001b[1;32m      3\u001b[0m     \u001b[0mresized_images\u001b[0m \u001b[0;34m=\u001b[0m \u001b[0;34m[\u001b[0m\u001b[0;34m]\u001b[0m\u001b[0;34m\u001b[0m\u001b[0;34m\u001b[0m\u001b[0m\n\u001b[1;32m      4\u001b[0m     \u001b[0;32mfor\u001b[0m \u001b[0mimage\u001b[0m \u001b[0;32min\u001b[0m \u001b[0marray_images\u001b[0m\u001b[0;34m:\u001b[0m\u001b[0;34m\u001b[0m\u001b[0;34m\u001b[0m\u001b[0m\n\u001b[0;32m----> 5\u001b[0;31m         \u001b[0mnew_img\u001b[0m \u001b[0;34m=\u001b[0m \u001b[0mscipy\u001b[0m\u001b[0;34m.\u001b[0m\u001b[0mimresize\u001b[0m\u001b[0;34m(\u001b[0m\u001b[0mimage\u001b[0m\u001b[0;34m,\u001b[0m\u001b[0;34m(\u001b[0m\u001b[0mpixel_length\u001b[0m\u001b[0;34m,\u001b[0m\u001b[0mpixel_width\u001b[0m\u001b[0;34m,\u001b[0m\u001b[0mpixel_height\u001b[0m\u001b[0;34m)\u001b[0m\u001b[0;34m)\u001b[0m\u001b[0;34m\u001b[0m\u001b[0;34m\u001b[0m\u001b[0m\n\u001b[0m\u001b[1;32m      6\u001b[0m         \u001b[0mresized_images\u001b[0m\u001b[0;34m.\u001b[0m\u001b[0mappend\u001b[0m\u001b[0;34m(\u001b[0m\u001b[0mnew_img\u001b[0m\u001b[0;34m)\u001b[0m\u001b[0;34m\u001b[0m\u001b[0;34m\u001b[0m\u001b[0m\n\u001b[1;32m      7\u001b[0m     \u001b[0;32mreturn\u001b[0m \u001b[0mresized_images\u001b[0m\u001b[0;34m\u001b[0m\u001b[0;34m\u001b[0m\u001b[0m\n",
      "\u001b[0;31mAttributeError\u001b[0m: module 'scipy' has no attribute 'imresize'"
     ]
    }
   ],
   "source": [
    "#import statements \n",
    "import pydicom\n",
    "import os\n",
    "import numpy as np\n",
    "import matplotlib.pyplot as plt\n",
    "import random\n",
    "import uuid\n",
    "import cv2\n",
    "\n",
    "#set instance variables\n",
    "path_pd = \"/Users/anacismaru/asr_mac/pd\"\n",
    "path_control = \"/Users/anacismaru/asr_mac/control\"\n",
    "PX_SIZE_2D = 64\n",
    "\n",
    "#matrices that contain numpy arrays of pixel data\n",
    "images_pd = upload_dicom(path_pd)\n",
    "images_control = upload_dicom(path_control)\n",
    "\n",
    "#normalize images\n",
    "n_images_pd = normalize(images_pd)\n",
    "n_images_control = normalize(images_control)\n",
    "\n",
    "resized_test_pd = resize_3D(n_images_pd, PX_SIZE_2D, PX_SIZE_2D, PX_SIZE_2D)\n",
    "print(resized_test_pd[0].shape)\n",
    "\n",
    "# # #determine test and train sets\n",
    "# test_pd, train_pd = divide_arrays(n_images_pd)\n",
    "# test_control, train_control = divide_arrays(n_images_control)\n",
    "\n",
    "# #split images into slices for 2D portion of algorithm\n",
    "# slice_test_pd = slice_dicom(test_pd)\n",
    "# slice_train_pd = slice_dicom(train_pd)\n",
    "# slice_test_control = slice_dicom(test_control)\n",
    "# slice_train_control = slice_dicom(train_control)\n",
    "\n",
    "# #create mean image from slices\n",
    "# mean_test_pd = mean_image(slice_test_pd)\n",
    "# mean_train_pd = mean_image(slice_train_pd)\n",
    "# mean_test_control = mean_image(slice_test_control)\n",
    "# mean_train_control = mean_image(slice_train_control)\n",
    "\n",
    "# #resize 2D images\n",
    "# resized_test_pd = resize_2D(mean_test_pd, PX_SIZE_2D, PX_SIZE_2D)\n",
    "# resized_train_pd = resize_2D(mean_train_pd, PX_SIZE_2D, PX_SIZE_2D)\n",
    "# resized_test_control = resize_2D(mean_test_control, PX_SIZE_2D, PX_SIZE_2D)\n",
    "# resized_train_control = resize_2D(mean_train_control, PX_SIZE_2D, PX_SIZE_2D)\n",
    "\n",
    "\n",
    "# #create version directory\n",
    "# current_directory = os.getcwd()\n",
    "# version_directory = os.path.join(current_directory, r'preprocessed_data_v2_1')\n",
    "# if not os.path.exists(version_directory):\n",
    "#     os.makedirs(version_directory)\n",
    "# #create 2D/3D directory\n",
    "# threeD_directory = os.path.join(version_directory, r'3D')\n",
    "# if not os.path.exists(threeD_directory):\n",
    "#     os.makedirs(threeD_directory)\n",
    "# twoD_directory = os.path.join(version_directory, r'2D')\n",
    "# if not os.path.exists(twoD_directory):\n",
    "#     os.makedirs(twoD_directory)\n",
    "\n",
    "# #Create class directories\n",
    "# threeD_train_pd_dir = os.path.join(threeD_directory, r'train/pd')\n",
    "# if not os.path.exists(threeD_train_pd_dir):\n",
    "#     os.makedirs(threeD_train_pd_dir)\n",
    "# threeD_test_pd_dir = os.path.join(threeD_directory, r'test/pd')\n",
    "# if not os.path.exists(threeD_test_pd_dir):\n",
    "#     os.makedirs(threeD_test_pd_dir)\n",
    "\n",
    "# twoD_train_pd_dir = os.path.join(twoD_directory, r'train/pd')\n",
    "# if not os.path.exists(twoD_train_pd_dir):\n",
    "#     os.makedirs(twoD_train_pd_dir)\n",
    "# twoD_test_pd_dir = os.path.join(twoD_directory, r'test/pd')\n",
    "# if not os.path.exists(twoD_test_pd_dir):\n",
    "#     os.makedirs(twoD_test_pd_dir)\n",
    "    \n",
    "# threeD_train_control_dir = os.path.join(threeD_directory, r'train/control')\n",
    "# if not os.path.exists(threeD_train_control_dir):\n",
    "#     os.makedirs(threeD_train_control_dir)\n",
    "# threeD_test_control_dir = os.path.join(threeD_directory, r'test/control')\n",
    "# if not os.path.exists(threeD_test_control_dir):\n",
    "#     os.makedirs(threeD_test_control_dir)\n",
    "    \n",
    "# twoD_train_control_dir = os.path.join(twoD_directory, r'train/control')\n",
    "# if not os.path.exists(twoD_train_control_dir):\n",
    "#     os.makedirs(twoD_train_control_dir)\n",
    "# twoD_test_control_dir = os.path.join(twoD_directory, r'test/control')\n",
    "# if not os.path.exists(twoD_test_control_dir):\n",
    "#     os.makedirs(twoD_test_control_dir)\n",
    "\n",
    "# #Save all numpy images in respective folders\n",
    "# for image in test_pd:\n",
    "#     save_file(image, threeD_test_pd_dir)\n",
    "# for image in test_control:\n",
    "#     save_file(image, threeD_test_control_dir)\n",
    "# for image in train_pd:\n",
    "#     save_file(image, threeD_train_pd_dir)\n",
    "# for image in train_control:\n",
    "#     save_file(image, threeD_train_control_dir)\n",
    "\n",
    "# for image in resized_test_pd:\n",
    "#     save_file(image, twoD_test_pd_dir)\n",
    "# for image in resized_test_control:\n",
    "#     save_file(image, twoD_test_control_dir)\n",
    "# for image in resized_train_pd:\n",
    "#     save_file(image, twoD_train_pd_dir)\n",
    "# for image in resized_train_control:\n",
    "#     save_file(image, twoD_train_control_dir)\n",
    "    \n",
    "    \n"
   ]
  },
  {
   "cell_type": "code",
   "execution_count": 2,
   "metadata": {},
   "outputs": [],
   "source": [
    "#checked and good\n",
    "def upload_dicom(path):\n",
    "    PathDicom = path\n",
    "    lstFilesDCM = []  # create an empty list\n",
    "    for dirName, subdirList, fileList in os.walk(PathDicom):\n",
    "        for filename in fileList:\n",
    "            if \".dcm\" in filename.lower():  # check whether the file's DICOM\n",
    "                lstFilesDCM.append(os.path.join(dirName,filename))\n",
    "    #print(lstFilesDCM[0])   \n",
    "\n",
    "    #make a array to store all the 3D dicom images, should be 702 long by the end of the program\n",
    "    images = []\n",
    "\n",
    "    # loop through all the DICOM files\n",
    "    for filenameDCM in lstFilesDCM:   \n",
    "        # read the file\n",
    "        ds = pydicom.dcmread(filenameDCM)\n",
    "        # store the raw image data\n",
    "        pixel_data = ds.pixel_array\n",
    "        #convert pixel data to numpy array for one image\n",
    "        array = pixel_data \n",
    "        #append to larger list of images\n",
    "        images.append(array)\n",
    "    #return array with dicom files\n",
    "    return images"
   ]
  },
  {
   "cell_type": "code",
   "execution_count": 3,
   "metadata": {},
   "outputs": [],
   "source": [
    "#split array into 70% train and 30% test (good)\n",
    "def divide_arrays(array):\n",
    "    #determine length of test and train array\n",
    "    length_array = len(array)\n",
    "    seventy = round(length_array*0.7)\n",
    "    thirty = round(length_array*0.3)\n",
    "    #determine the thirty indexes that will be removed from array and placed into the test_array\n",
    "    removed_index = random.sample(range(0, len(array)-1), thirty)\n",
    "    #remove each image at index from array and place into test_array\n",
    "    test_array = []\n",
    "    train_array = []\n",
    "    for index, item in enumerate(array):\n",
    "        if index in removed_index: #if the index of item appears in removed\n",
    "            test_array.append(item)\n",
    "        else:\n",
    "            train_array.append(item)\n",
    "    return test_array, train_array\n",
    "        \n",
    "    "
   ]
  },
  {
   "cell_type": "code",
   "execution_count": 4,
   "metadata": {},
   "outputs": [],
   "source": [
    "#split dicom images into slices (good)\n",
    "def slice_dicom(array):\n",
    "    twoD = []\n",
    "    for image in array:\n",
    "        slices = []\n",
    "        for z in range(image.shape[0] - 1):\n",
    "            slices.append(image[z,:,:])\n",
    "        twoD.append(slices)     \n",
    "    return twoD\n",
    "              "
   ]
  },
  {
   "cell_type": "code",
   "execution_count": 5,
   "metadata": {},
   "outputs": [],
   "source": [
    "#normalize images (cool and good)\n",
    "def normalize(array):\n",
    "    array_minmax = []\n",
    "    for image in array:\n",
    "        max_value, min_value = image.max(), image.min()\n",
    "        minmax = (image - min_value)/(max_value - min_value)\n",
    "        array_minmax.append(minmax)\n",
    "    return array_minmax"
   ]
  },
  {
   "cell_type": "code",
   "execution_count": 6,
   "metadata": {},
   "outputs": [],
   "source": [
    "#select slices 35 to 48 from 3D images and create a mean image (cool and good)\n",
    "def mean_image(array_images):\n",
    "    mean_images = []\n",
    "    for image in array_images:\n",
    "        mean_image = image[34]  #2D\n",
    "        num_images = 1\n",
    "        for z in range (35, 47): #check this index is right and doesn't need a new index\n",
    "            mean_image = mean_image+image[z]\n",
    "            num_images = num_images + 1\n",
    "        mean_image = mean_image/num_images\n",
    "        mean_images.append(mean_image)\n",
    "    return mean_images"
   ]
  },
  {
   "cell_type": "code",
   "execution_count": 7,
   "metadata": {},
   "outputs": [],
   "source": [
    "#show slices 30-50 in one figure; slices need to be split beforehand(cool and good) \n",
    "def plot_slices(slices):\n",
    "    fig = plt.figure()\n",
    "    for num,each_slice in enumerate(slices[30:50]):\n",
    "        y = fig.add_subplot(4,5, num+1)\n",
    "        #to resize (if necessary): new_image = cv2.resize(np.array(each_slice.pixel_array),(IMG_PX_SIZE, IMG_PX_SIZE))\n",
    "        y.imshow(each_slice)  #use , cmap='gray' in imshow() to see in grayscale\n",
    "    plt.show()"
   ]
  },
  {
   "cell_type": "code",
   "execution_count": 8,
   "metadata": {},
   "outputs": [],
   "source": [
    "#to label images as [0,1] for parkinson's and [1,0] for control (cool and good)\n",
    "def label_images(array_images, label):\n",
    "    labeled_slices = []\n",
    "    for image in array_images:\n",
    "        if label == 1:\n",
    "            labeled_slices.append([image, [0,1]])\n",
    "        elif label == 0: \n",
    "            labeled_slices.append([image, [1,0]])\n",
    "    return labeled_slices"
   ]
  },
  {
   "cell_type": "code",
   "execution_count": 9,
   "metadata": {},
   "outputs": [],
   "source": [
    "#saves file as numpy\n",
    "def save_file(image, directory):\n",
    "    unique = uuid.uuid4()\n",
    "    file_name = \"/\" + str(unique)\n",
    "    print(file_name)\n",
    "    np.save(directory + file_name, image)"
   ]
  },
  {
   "cell_type": "code",
   "execution_count": 10,
   "metadata": {},
   "outputs": [],
   "source": [
    "def resize_2D(array_images, pixel_length, pixel_width):\n",
    "    resized_images = []\n",
    "    for image in array_images:\n",
    "        new_img = cv2.resize(image,(pixel_length,pixel_width))\n",
    "        resized_images.append(new_img)\n",
    "    return resized_images\n"
   ]
  },
  {
   "cell_type": "code",
   "execution_count": 18,
   "metadata": {},
   "outputs": [],
   "source": [
    "import scipy\n",
    "\"FIX THE SCIPY.IMRESIZE\"\n",
    "def resize_3D(array_images, pixel_length, pixel_width, pixel_height):\n",
    "    resized_images = []\n",
    "    for image in array_images:\n",
    "        new_img = scipy.imresize(image,(pixel_length,pixel_width,pixel_height))\n",
    "        resized_images.append(new_img)\n",
    "    return resized_images"
   ]
  },
  {
   "cell_type": "code",
   "execution_count": null,
   "metadata": {},
   "outputs": [],
   "source": []
  },
  {
   "cell_type": "code",
   "execution_count": null,
   "metadata": {},
   "outputs": [],
   "source": []
  },
  {
   "cell_type": "code",
   "execution_count": 21,
   "metadata": {},
   "outputs": [],
   "source": []
  },
  {
   "cell_type": "code",
   "execution_count": 18,
   "metadata": {},
   "outputs": [],
   "source": []
  },
  {
   "cell_type": "code",
   "execution_count": null,
   "metadata": {},
   "outputs": [],
   "source": []
  },
  {
   "cell_type": "code",
   "execution_count": null,
   "metadata": {},
   "outputs": [],
   "source": []
  },
  {
   "cell_type": "code",
   "execution_count": 2,
   "metadata": {},
   "outputs": [],
   "source": []
  },
  {
   "cell_type": "code",
   "execution_count": null,
   "metadata": {},
   "outputs": [],
   "source": []
  },
  {
   "cell_type": "code",
   "execution_count": null,
   "metadata": {},
   "outputs": [],
   "source": []
  },
  {
   "cell_type": "code",
   "execution_count": null,
   "metadata": {},
   "outputs": [],
   "source": []
  },
  {
   "cell_type": "code",
   "execution_count": null,
   "metadata": {},
   "outputs": [],
   "source": []
  },
  {
   "cell_type": "code",
   "execution_count": null,
   "metadata": {},
   "outputs": [],
   "source": []
  },
  {
   "cell_type": "code",
   "execution_count": null,
   "metadata": {},
   "outputs": [],
   "source": []
  },
  {
   "cell_type": "code",
   "execution_count": null,
   "metadata": {},
   "outputs": [],
   "source": []
  },
  {
   "cell_type": "code",
   "execution_count": null,
   "metadata": {},
   "outputs": [],
   "source": []
  },
  {
   "cell_type": "code",
   "execution_count": null,
   "metadata": {},
   "outputs": [],
   "source": []
  },
  {
   "cell_type": "code",
   "execution_count": null,
   "metadata": {},
   "outputs": [],
   "source": []
  }
 ],
 "metadata": {
  "kernelspec": {
   "display_name": "Python 3",
   "language": "python",
   "name": "python3"
  },
  "language_info": {
   "codemirror_mode": {
    "name": "ipython",
    "version": 3
   },
   "file_extension": ".py",
   "mimetype": "text/x-python",
   "name": "python",
   "nbconvert_exporter": "python",
   "pygments_lexer": "ipython3",
   "version": "3.6.8"
  }
 },
 "nbformat": 4,
 "nbformat_minor": 2
}
